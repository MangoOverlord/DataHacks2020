{
 "cells": [
  {
   "cell_type": "code",
   "execution_count": 2,
   "metadata": {},
   "outputs": [],
   "source": [
    "import numpy as np\n",
    "import pandas as pd"
   ]
  },
  {
   "cell_type": "code",
   "execution_count": 3,
   "metadata": {},
   "outputs": [
    {
     "name": "stdout",
     "output_type": "stream",
     "text": [
      "{'San Diego': 652, nan: 112, 'Lemon Grove': 19, 'Spring Valley': 26, 'National City': 62, 'Chula Vista': 81, 'Otay Castle Park': 14, 'Imperial Beach': 20, 'Coronado': 16, 'Grossmont Mount Helix': 16, 'La Mesa': 37, 'El Cajon': 66, 'Santee': 12, 'Lakeside': 8, 'Del Mar': 5, 'Solana Beach': 5, 'Cardiff by the Sea': 5, 'Encinitas': 10, 'Carlsbad': 16, 'Oceanside': 50, 'Vista': 31, 'San Marcos': 1}\n"
     ]
    }
   ],
   "source": [
    "roughdraft = pd.read_csv(\"mergeddata.csv\")\n",
    "wordFrequency = {}\n",
    "\n",
    "for y in roughdraft[\"Place Name_x\"]:\n",
    "\tif y in wordFrequency.keys():\n",
    "\t\twordFrequency[y] = wordFrequency.get(y)+1\n",
    "\telse: \n",
    "\t\twordFrequency[y] = 1\n",
    "\n",
    "print(wordFrequency)"
   ]
  },
  {
   "cell_type": "code",
   "execution_count": null,
   "metadata": {},
   "outputs": [],
   "source": []
  }
 ],
 "metadata": {
  "kernelspec": {
   "display_name": "Python 3",
   "language": "python",
   "name": "python3"
  },
  "language_info": {
   "codemirror_mode": {
    "name": "ipython",
    "version": 3
   },
   "file_extension": ".py",
   "mimetype": "text/x-python",
   "name": "python",
   "nbconvert_exporter": "python",
   "pygments_lexer": "ipython3",
   "version": "3.7.4"
  }
 },
 "nbformat": 4,
 "nbformat_minor": 4
}
